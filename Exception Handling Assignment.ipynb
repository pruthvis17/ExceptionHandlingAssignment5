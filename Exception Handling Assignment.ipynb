{
 "cells": [
  {
   "cell_type": "markdown",
   "metadata": {},
   "source": [
    "1. Write a function to compute 5/0 and use try/except to catch the exceptions."
   ]
  },
  {
   "cell_type": "code",
   "execution_count": 9,
   "metadata": {},
   "outputs": [
    {
     "name": "stdout",
     "output_type": "stream",
     "text": [
      "enter the numerator : 5\n",
      "enter the denominator : 0\n",
      "Dividing by zero is not possible. Try to give a non zero number\n"
     ]
    }
   ],
   "source": [
    "a=int(input(\"enter the numerator : \"))\n",
    "b=int(input(\"enter the denominator : \"))\n",
    "try:\n",
    "    print(a/b)\n",
    "except:\n",
    "    print(\"Dividing by zero is not possible. Try to give a non zero number\")\n",
    "      "
   ]
  },
  {
   "cell_type": "markdown",
   "metadata": {},
   "source": [
    "2. Implement a Python program to generate all sentences where subject is in\n",
    "[\"Americans\", \"Indians\"] and verb is in [\"Play\", \"watch\"] and the object is in\n",
    "[\"Baseball\",\"cricket\"]."
   ]
  },
  {
   "cell_type": "code",
   "execution_count": 12,
   "metadata": {},
   "outputs": [
    {
     "name": "stdout",
     "output_type": "stream",
     "text": [
      "Americans Play Baseball \n",
      "Americans Play cricket \n",
      "Americans watch Baseball \n",
      "Americans watch cricket \n",
      "Indians Play Baseball \n",
      "Indians Play cricket \n",
      "Indians watch Baseball \n",
      "Indians watch cricket \n"
     ]
    }
   ],
   "source": [
    "def list_of_list(subject,verb,objects):\n",
    "    for i in subject:\n",
    "        for j in verb:\n",
    "            for k in objects:\n",
    "                print(i+\" \"+j+\" \"+k+\" \")\n",
    "list_of_list([\"Americans\", \"Indians\"],[\"Play\", \"watch\"],[\"Baseball\",\"cricket\"])              "
   ]
  },
  {
   "cell_type": "code",
   "execution_count": null,
   "metadata": {},
   "outputs": [],
   "source": []
  }
 ],
 "metadata": {
  "kernelspec": {
   "display_name": "Python 3",
   "language": "python",
   "name": "python3"
  },
  "language_info": {
   "codemirror_mode": {
    "name": "ipython",
    "version": 3
   },
   "file_extension": ".py",
   "mimetype": "text/x-python",
   "name": "python",
   "nbconvert_exporter": "python",
   "pygments_lexer": "ipython3",
   "version": "3.7.6"
  }
 },
 "nbformat": 4,
 "nbformat_minor": 4
}
